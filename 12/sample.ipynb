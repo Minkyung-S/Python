{
 "cells": [
  {
   "cell_type": "code",
   "execution_count": 25,
   "metadata": {},
   "outputs": [
    {
     "name": "stdout",
     "output_type": "stream",
     "text": [
      "10\n",
      "Hello world\n",
      "<class 'int'>\n",
      "<class 'str'>\n"
     ]
    }
   ],
   "source": [
    "a=10\n",
    "b='Hello world'\n",
    "print(a)\n",
    "print(b)\n",
    "print(type(a))\n",
    "print(type(b))"
   ]
  },
  {
   "cell_type": "code",
   "execution_count": 26,
   "metadata": {},
   "outputs": [
    {
     "name": "stdout",
     "output_type": "stream",
     "text": [
      "10\n",
      "<class 'str'>\n"
     ]
    }
   ],
   "source": [
    "c=\"10\"\n",
    "print(c)\n",
    "print(type(c))"
   ]
  },
  {
   "cell_type": "code",
   "execution_count": null,
   "metadata": {},
   "outputs": [],
   "source": [
    "###연산자\n",
    "1. 대입연산자\n",
    "2. 비교연산자\n"
   ]
  },
  {
   "cell_type": "code",
   "execution_count": 1,
   "metadata": {},
   "outputs": [
    {
     "name": "stdout",
     "output_type": "stream",
     "text": [
      "9 1 20 1.25 1 1 625\n"
     ]
    }
   ],
   "source": [
    "#주석\n",
    "#언어로써 실행x\n",
    "#설명부문\n",
    "##산술연산자\n",
    "x=5\n",
    "y=4\n",
    "print(x+y, x-y, x*y, x/y, x//y, x%y, x**y)\n"
   ]
  },
  {
   "cell_type": "code",
   "execution_count": 2,
   "metadata": {},
   "outputs": [
    {
     "name": "stdout",
     "output_type": "stream",
     "text": [
      "6\n"
     ]
    }
   ],
   "source": [
    "## 대입연산자 \n",
    "## +=, -=, *=, .....\n",
    "## a += 1 -> a = a + 1\n",
    "## x의 값은 ? 5\n",
    "## x += 1의 값은 ? x가 6\n",
    "x += 1\n",
    "print(x)"
   ]
  },
  {
   "cell_type": "code",
   "execution_count": 3,
   "metadata": {},
   "outputs": [
    {
     "name": "stdout",
     "output_type": "stream",
     "text": [
      "7\n"
     ]
    }
   ],
   "source": [
    "print(x + 1)\n"
   ]
  },
  {
   "cell_type": "code",
   "execution_count": 4,
   "metadata": {},
   "outputs": [
    {
     "name": "stdout",
     "output_type": "stream",
     "text": [
      "3\n"
     ]
    }
   ],
   "source": [
    "## 현재 x의 값은 ? 19\n",
    "x -= 3\n",
    "print(x)\n",
    "## 결과값은 ? 16"
   ]
  },
  {
   "cell_type": "code",
   "execution_count": 5,
   "metadata": {},
   "outputs": [
    {
     "name": "stdout",
     "output_type": "stream",
     "text": [
      "False True True False True False\n"
     ]
    }
   ],
   "source": [
    "## 비교 연산자\n",
    "## 결과값이 논리값 -> True, False\n",
    "a = 5\n",
    "b = 3\n",
    "print(a == b, a != b, a > b, a < b, a >= b, a <= b)\n",
    "## 결과값은 ? False, True, True, False, True, False\n",
    "\n"
   ]
  },
  {
   "cell_type": "code",
   "execution_count": 8,
   "metadata": {},
   "outputs": [
    {
     "name": "stdout",
     "output_type": "stream",
     "text": [
      "True\n",
      "False\n"
     ]
    }
   ],
   "source": [
    "## and, or, not \n",
    "## and -> 두 조건식이 참인 경우에만 참, 그 외에는 거짓\n",
    "## or -> 두 조건식 중에 하나만 참이면 참, 두 조건식이 모두 거짓인 경우 거짓\n",
    "## not -> 참인 경우에는 거짓, 거짓인 경우에는 참\n",
    "print( (a > 3) and (a < 10) ) ## 참, 참 and 결과값은 ? True\n",
    "print( (a < 3) and (a < 10) ) ## 거짓, 참 and 결과값은 ? False"
   ]
  },
  {
   "cell_type": "code",
   "execution_count": 7,
   "metadata": {},
   "outputs": [
    {
     "name": "stdout",
     "output_type": "stream",
     "text": [
      "True\n",
      "True\n"
     ]
    }
   ],
   "source": [
    "\n",
    "print( (a < 3) or (a < 10) ) ## 거짓, 참 or 결과값은 ? True\n",
    "print( (a > 3) or (a < 10) ) ## 참, 참 or 결과값은 ? True"
   ]
  },
  {
   "cell_type": "code",
   "execution_count": 6,
   "metadata": {},
   "outputs": [
    {
     "data": {
      "text/plain": [
       "True"
      ]
     },
     "execution_count": 6,
     "metadata": {},
     "output_type": "execute_result"
    }
   ],
   "source": [
    "not(False) ## not은 부정 -> 반대로 출력 False -> True"
   ]
  }
 ],
 "metadata": {
  "kernelspec": {
   "display_name": "Python 3",
   "language": "python",
   "name": "python3"
  },
  "language_info": {
   "codemirror_mode": {
    "name": "ipython",
    "version": 3
   },
   "file_extension": ".py",
   "mimetype": "text/x-python",
   "name": "python",
   "nbconvert_exporter": "python",
   "pygments_lexer": "ipython3",
   "version": "3.8.7"
  },
  "orig_nbformat": 4,
  "vscode": {
   "interpreter": {
    "hash": "157d923c3f025a603c82b2ab2aa3510779d8cce1e8308910710eeaba0172b1a9"
   }
  }
 },
 "nbformat": 4,
 "nbformat_minor": 2
}
