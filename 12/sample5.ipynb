{
 "cells": [
  {
   "cell_type": "code",
   "execution_count": 1,
   "metadata": {},
   "outputs": [
    {
     "name": "stdout",
     "output_type": "stream",
     "text": [
      "8\n",
      "4\n",
      "12\n"
     ]
    }
   ],
   "source": [
    "## 함수 -> 데이터를 일반적인 저장 방식, 뭔가 행동을 하고 난 뒤에 결과값 돌려주는\n",
    "## def 함수명 (매개변수):\n",
    "\n",
    "def func_1(a, b):\n",
    "    result = a + b\n",
    "    return result\n",
    "\n",
    "c = func_1(5, 3)\n",
    "print(c)\n",
    "print(func_1(1,3))\n",
    "print(func_1(10,2))"
   ]
  },
  {
   "attachments": {},
   "cell_type": "markdown",
   "metadata": {},
   "source": [
    "변수의 종류\n",
    "-전역 변수\n",
    "어디서든 사용이 가능한 변수\n",
    "들여쓰기를 하지 않은 공간에서 지정한 변수\n",
    "\n",
    "-지역 변수\n",
    "특정한 구간에서만 사용이 가능한 변수\n",
    "함수 안에서 만든 변수(들여쓰기를 한 곳에서 지정한 변수)"
   ]
  },
  {
   "cell_type": "code",
   "execution_count": 7,
   "metadata": {},
   "outputs": [
    {
     "name": "stdout",
     "output_type": "stream",
     "text": [
      "3\n",
      "12\n"
     ]
    }
   ],
   "source": [
    "x = 3\n",
    "\n",
    "def func_2(a):\n",
    "    result = a*x\n",
    "    return result\n",
    "print(x)\n",
    "print (func_2(4))"
   ]
  },
  {
   "cell_type": "code",
   "execution_count": 2,
   "metadata": {},
   "outputs": [
    {
     "name": "stdout",
     "output_type": "stream",
     "text": [
      "12\n"
     ]
    }
   ],
   "source": [
    "\n",
    "def func_3(a):\n",
    "    func_3_y = 3\n",
    "    func_3_result = a * func_3_y    \n",
    "    return func_3_result\n",
    "\n",
    "print(func_3(4))"
   ]
  },
  {
   "cell_type": "code",
   "execution_count": 9,
   "metadata": {},
   "outputs": [
    {
     "name": "stdout",
     "output_type": "stream",
     "text": [
      "7\n",
      "4\n"
     ]
    }
   ],
   "source": [
    "def func_4(a,b,c=1) :\n",
    "    result = a + b - c\n",
    "    return result\n",
    "print(func_4(5,3))\n",
    "print(func_4(5,3,4))"
   ]
  },
  {
   "attachments": {},
   "cell_type": "markdown",
   "metadata": {},
   "source": [
    "## 함수 생성 문제\n",
    "1. 함수 생성 매개변수 3개 a,b,c\n",
    "2. c의 값이 '합' 이면 result = a+b\n",
    "3. c의 값이 '차' 이면 result = a-b\n",
    "4. 이외 값 Error\n",
    "5. return result\n",
    "6. print(함수값(3개의 인자값))"
   ]
  },
  {
   "cell_type": "code",
   "execution_count": 14,
   "metadata": {},
   "outputs": [
    {
     "name": "stdout",
     "output_type": "stream",
     "text": [
      "3\n",
      "-1\n",
      "Error\n"
     ]
    }
   ],
   "source": [
    "def func_5(a,b,c):\n",
    "    if c == \"합\":\n",
    "        result = a + b\n",
    "    elif c == \"차\":\n",
    "        result = a - b\n",
    "    else :\n",
    "        result = \"Error\"\n",
    "    return result   \n",
    "print(func_5(1,2,\"합\"))\n",
    "print(func_5(1,2,\"차\"))\n",
    "print(func_5(1,2,\"금\"))"
   ]
  },
  {
   "attachments": {},
   "cell_type": "markdown",
   "metadata": {},
   "source": [
    "###함수 생성\n",
    "1. 매개변수 2개(a,b)를 가진 함수 생성 (매개변수에는 숫자형만 넣어서 실행)\n",
    "2. a와b 사이에 숫자들의 합계를 return (a와b가 모두 포함되어 있는 경우)\n",
    "3. a와b 사이에는 대소관계는 정해져있지 않다.\n",
    "4. print (func_6(1,10))->55\n",
    "5. print (func_6(10,1))->55\n",
    "6. a와 b가 같은 경우에는 a를 return"
   ]
  },
  {
   "cell_type": "code",
   "execution_count": 32,
   "metadata": {},
   "outputs": [
    {
     "name": "stdout",
     "output_type": "stream",
     "text": [
      "55\n",
      "0\n"
     ]
    }
   ],
   "source": [
    "def func_6(a,b):\n",
    "    sum = 0\n",
    "    for i in range (a, b+1, 1):\n",
    "        sum += i\n",
    "    return sum\n",
    "\n",
    "print (func_6(1,10))\n",
    "print (func_6(10,1))\n"
   ]
  },
  {
   "cell_type": "code",
   "execution_count": 30,
   "metadata": {},
   "outputs": [
    {
     "name": "stdout",
     "output_type": "stream",
     "text": [
      "55\n",
      "55\n"
     ]
    }
   ],
   "source": [
    "def func_6(a,b):\n",
    "    sum = 0\n",
    "    if a<b :\n",
    "        for i in range (a, b+1, 1):\n",
    "            sum += i\n",
    "    elif a>b : \n",
    "        for i in range(b, a+1, 1):\n",
    "            sum+= i\n",
    "    else :\n",
    "        sum = a\n",
    "    return sum\n",
    "\n",
    "print (func_6(1,10))\n",
    "print (func_6(10,1))\n"
   ]
  },
  {
   "cell_type": "code",
   "execution_count": 40,
   "metadata": {},
   "outputs": [
    {
     "name": "stdout",
     "output_type": "stream",
     "text": [
      "55\n",
      "55\n"
     ]
    }
   ],
   "source": [
    "def func_7(a, b):\n",
    "    sum = 0\n",
    "    for i in range(min(a, b), max(a, b)+1, 1):\n",
    "        sum += i\n",
    "    return sum\n",
    "print (func_7(1,10))\n",
    "print (func_7(10,1))"
   ]
  },
  {
   "cell_type": "code",
   "execution_count": 41,
   "metadata": {},
   "outputs": [
    {
     "name": "stdout",
     "output_type": "stream",
     "text": [
      "55\n",
      "55\n"
     ]
    }
   ],
   "source": [
    "def func_8(a,b):\n",
    "    sum=0\n",
    "    if a < b:\n",
    "        while a <=b:\n",
    "            sum +=a\n",
    "            a+= 1\n",
    "    elif a > b:\n",
    "        while b<= a:\n",
    "            sum +=b\n",
    "            b+= 1\n",
    "    else :\n",
    "        sum = a\n",
    "    return sum\n",
    "print (func_8(1,10))\n",
    "print (func_8(10,1))\n"
   ]
  }
 ],
 "metadata": {
  "kernelspec": {
   "display_name": "Python 3",
   "language": "python",
   "name": "python3"
  },
  "language_info": {
   "codemirror_mode": {
    "name": "ipython",
    "version": 3
   },
   "file_extension": ".py",
   "mimetype": "text/x-python",
   "name": "python",
   "nbconvert_exporter": "python",
   "pygments_lexer": "ipython3",
   "version": "3.8.7"
  },
  "orig_nbformat": 4,
  "vscode": {
   "interpreter": {
    "hash": "157d923c3f025a603c82b2ab2aa3510779d8cce1e8308910710eeaba0172b1a9"
   }
  }
 },
 "nbformat": 4,
 "nbformat_minor": 2
}
